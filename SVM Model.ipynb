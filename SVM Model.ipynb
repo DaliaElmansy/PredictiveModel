{
 "cells": [
  {
   "cell_type": "code",
   "execution_count": 433,
   "metadata": {},
   "outputs": [],
   "source": [
    "import pandas as pd \n",
    "import numpy as np"
   ]
  },
  {
   "cell_type": "markdown",
   "metadata": {},
   "source": [
    "### Getting Datasets Ready for Training"
   ]
  },
  {
   "cell_type": "code",
   "execution_count": 434,
   "metadata": {},
   "outputs": [
    {
     "name": "stderr",
     "output_type": "stream",
     "text": [
      "C:\\Users\\Lambada\\Anaconda3\\lib\\site-packages\\IPython\\core\\interactiveshell.py:3185: DtypeWarning: Columns (1,2,3,4,5,6,7,8,9,10,11,12,13,14,15,16,17,18,19,20,21,22,23,24,25,26,27,28,29,30,31,32,33,34,35,36,37,38,39,40,41,42,43,44,45,46,47,48,49,50) have mixed types. Specify dtype option on import or set low_memory=False.\n",
      "  if (yield from self.run_code(code, result)):\n",
      "C:\\Users\\Lambada\\Anaconda3\\lib\\site-packages\\IPython\\core\\interactiveshell.py:3191: DtypeWarning: Columns (1,2,3,4,5,6,7,8,9,10,11,12,13,14,15,16,17,18,19,20,21,22,23,24,25,26,27,28,29,30,31,32,33,34,35,36,37,38,39,40,41,42,43,44,45,46,47,48,49,50,51,52,53,54,55,56,57,58,59,60,61,62,63,64) have mixed types. Specify dtype option on import or set low_memory=False.\n",
      "  if (yield from self.run_code(code, result)):\n"
     ]
    }
   ],
   "source": [
    "def preproccess():    \n",
    "    df = pd.read_csv('DS1.txt', sep='\\t', header=None,error_bad_lines=False,skiprows=4)\n",
    "    df = df.transpose()\n",
    "    df = df.iloc[:,1:]\n",
    "    df.columns = df.iloc[0]\n",
    "    df = df.iloc[1:]\n",
    "    df.rename(columns={'0':'Class'},inplace=True)\n",
    "    y=df['Class']\n",
    "    X= df.loc[:,'AADAC':]\n",
    "    return X, y\n",
    "preproccess(); #remove the semi-column to view the dataframes\n",
    "\n",
    "def preproccess2():    \n",
    "    df = pd.read_csv('DS2.txt', sep='\\t', header=None,error_bad_lines=False,skiprows=4)\n",
    "    df = df.transpose()\n",
    "    df = df.iloc[:,1:]\n",
    "    df.columns = df.iloc[0]\n",
    "    df = df.iloc[1:]\n",
    "    df.rename(columns={'0':'Class'},inplace=True)\n",
    "    y2=df['Class']\n",
    "    X2= df.loc[:,'RAB6IP2':]\n",
    "    return X2, y2\n",
    "preproccess2();\n",
    "\n",
    "def preproccess3():    \n",
    "    df = pd.read_csv('DS3.txt', sep='\\t', header=None,error_bad_lines=False,skiprows=4)\n",
    "    df = df.transpose()\n",
    "    df = df.iloc[:,1:]\n",
    "    df.columns = df.iloc[0]\n",
    "    df = df.iloc[1:]\n",
    "    df.rename(columns={'0':'Class'},inplace=True)\n",
    "    y3=df['Class']\n",
    "    X3= df.loc[:,'A1BG':]\n",
    "    return X3, y3\n",
    "preproccess3();\n",
    "\n",
    "def preproccess4():    \n",
    "    df = pd.read_csv('DS4.txt', sep='\\t', header=None,error_bad_lines=False,skiprows=5)\n",
    "    df = df.transpose()\n",
    "    df = df.iloc[:,:]\n",
    "    df.columns = df.iloc[0]\n",
    "    df = df.iloc[1:]\n",
    "    df.rename(columns={'0':'Class'},inplace=True)\n",
    "    y4=df['Class']\n",
    "    X4= df.loc[:,'ZZZ3':]\n",
    "    return X4, y4\n",
    "preproccess4();\n",
    "\n",
    "def preproccess5():    \n",
    "    df = pd.read_csv('DS5.txt', sep='\\t', header=None,error_bad_lines=False,skiprows=4)\n",
    "    df = df.transpose()\n",
    "    df = df.iloc[:,1:]\n",
    "    df.columns = df.iloc[0]\n",
    "    df = df.iloc[1:]\n",
    "    df.rename(columns={'0':'Class'},inplace=True)\n",
    "    y5=df['Class']\n",
    "    X5= df.loc[:,'AADAC':]\n",
    "    return X, y\n",
    "preproccess5();\n",
    "\n",
    "def preproccess6():    \n",
    "    df = pd.read_csv('DS6.txt', sep='\\t', header=None,error_bad_lines=False,skiprows=4)\n",
    "    df = df.transpose()\n",
    "    df = df.iloc[:,1:]\n",
    "    df.columns = df.iloc[0]\n",
    "    df = df.iloc[1:]\n",
    "    df.rename(columns={'0':'Class'},inplace=True)\n",
    "    y6=df['Class']\n",
    "    X6= df.loc[:,'RAB6IP2':]\n",
    "    return X6, y6\n",
    "preproccess6();\n",
    "\n",
    "def preproccess7():    \n",
    "    df = pd.read_csv('DS7.txt', sep='\\t', header=None,error_bad_lines=False,skiprows=4)\n",
    "    df = df.transpose()\n",
    "    df = df.iloc[:,1:]\n",
    "    df.columns = df.iloc[0]\n",
    "    df = df.iloc[1:]\n",
    "    df.rename(columns={'0':'Class'},inplace=True)\n",
    "    y7=df['Class']\n",
    "    X7= df.loc[:,'RAB6IP2':]\n",
    "    return X7, y7\n",
    "preproccess7();"
   ]
  },
  {
   "cell_type": "markdown",
   "metadata": {},
   "source": [
    "### Train and test splits for cros-val and model test"
   ]
  },
  {
   "cell_type": "code",
   "execution_count": 435,
   "metadata": {},
   "outputs": [
    {
     "name": "stderr",
     "output_type": "stream",
     "text": [
      "C:\\Users\\Lambada\\Anaconda3\\lib\\site-packages\\IPython\\core\\interactiveshell.py:3185: DtypeWarning: Columns (1,2,3,4,5,6,7,8,9,10,11,12,13,14,15,16,17,18,19,20,21,22,23,24,25,26,27,28,29,30,31,32,33,34,35,36,37,38,39,40,41,42,43,44,45,46,47,48,49,50,51,52,53,54,55,56,57,58,59,60,61,62,63,64) have mixed types. Specify dtype option on import or set low_memory=False.\n",
      "  if (yield from self.run_code(code, result)):\n"
     ]
    }
   ],
   "source": [
    "X, y = preproccess()\n",
    "X_train, X_test, y_train, y_test = train_test_split(X,y)\n",
    "\n",
    "X2, y2 = preproccess2()\n",
    "X2_train, X2_test, y2_train, y2_test = train_test_split(X2,y2)\n",
    "\n",
    "X3, y3 = preproccess3()\n",
    "X3_train, X3_test, y3_train, y3_test = train_test_split(X3,y3)\n",
    "\n",
    "X4, y4 = preproccess4()\n",
    "X4_train, X4_test, y4_train, y4_test = train_test_split(X4,y4)\n",
    "\n",
    "y4_train = np.array(y4_train).astype(int)\n",
    "y4_test = np.array(y4_test).astype(int)\n",
    "\n",
    "X5, y5 = preproccess5()\n",
    "X5_train, X5_test, y5_train, y5_test = train_test_split(X5,y5)\n",
    "\n",
    "X6, y6 = preproccess6()\n",
    "X6_train, X6_test, y6_train, y6_test = train_test_split(X6,y6)\n",
    "\n",
    "X7, y7 = preproccess7()\n",
    "X7_train, X7_test, y7_train, y7_test = train_test_split(X7,y7)"
   ]
  },
  {
   "cell_type": "markdown",
   "metadata": {},
   "source": [
    "### Model Evaluation through 5 cross-vals and Searching for optimial parameters"
   ]
  },
  {
   "cell_type": "code",
   "execution_count": 436,
   "metadata": {},
   "outputs": [
    {
     "name": "stderr",
     "output_type": "stream",
     "text": [
      "C:\\Users\\Lambada\\Anaconda3\\lib\\site-packages\\sklearn\\model_selection\\_search.py:841: DeprecationWarning: The default of the `iid` parameter will change from True to False in version 0.22 and will be removed in 0.24. This will change numeric results when test-set sizes are unequal.\n",
      "  DeprecationWarning)\n",
      "C:\\Users\\Lambada\\Anaconda3\\lib\\site-packages\\sklearn\\model_selection\\_search.py:841: DeprecationWarning: The default of the `iid` parameter will change from True to False in version 0.22 and will be removed in 0.24. This will change numeric results when test-set sizes are unequal.\n",
      "  DeprecationWarning)\n",
      "C:\\Users\\Lambada\\Anaconda3\\lib\\site-packages\\sklearn\\model_selection\\_search.py:841: DeprecationWarning: The default of the `iid` parameter will change from True to False in version 0.22 and will be removed in 0.24. This will change numeric results when test-set sizes are unequal.\n",
      "  DeprecationWarning)\n",
      "C:\\Users\\Lambada\\Anaconda3\\lib\\site-packages\\sklearn\\model_selection\\_search.py:841: DeprecationWarning: The default of the `iid` parameter will change from True to False in version 0.22 and will be removed in 0.24. This will change numeric results when test-set sizes are unequal.\n",
      "  DeprecationWarning)\n",
      "C:\\Users\\Lambada\\Anaconda3\\lib\\site-packages\\sklearn\\model_selection\\_search.py:841: DeprecationWarning: The default of the `iid` parameter will change from True to False in version 0.22 and will be removed in 0.24. This will change numeric results when test-set sizes are unequal.\n",
      "  DeprecationWarning)\n"
     ]
    },
    {
     "data": {
      "text/plain": [
       "GridSearchCV(cv=3, error_score='raise-deprecating',\n",
       "       estimator=SVC(C=1.0, cache_size=200, class_weight=None, coef0=0.0,\n",
       "  decision_function_shape='ovr', degree=3, gamma='auto_deprecated',\n",
       "  kernel='rbf', max_iter=-1, probability=False, random_state=0,\n",
       "  shrinking=True, tol=0.001, verbose=False),\n",
       "       fit_params=None, iid='warn', n_jobs=-1,\n",
       "       param_grid={'C': [0.001, 0.1, 1, 10, 100], 'gamma': [0.001, 0.01, 1, 4, 8]},\n",
       "       pre_dispatch='2*n_jobs', refit=True, return_train_score='warn',\n",
       "       scoring='roc_auc', verbose=0)"
      ]
     },
     "execution_count": 436,
     "metadata": {},
     "output_type": "execute_result"
    }
   ],
   "source": [
    "from sklearn.svm import SVC\n",
    "from sklearn.model_selection import train_test_split,GridSearchCV\n",
    "\n",
    "clf = SVC(random_state=0)\n",
    "param = {'C':[0.001,0.1,1,10,100],'gamma':[0.001,0.01,1,4,8]}\n",
    "\n",
    "grid = GridSearchCV(clf,param_grid=param,scoring='roc_auc',cv=3,n_jobs=-1)\n",
    "grid.fit(X_train,y_train) #change X_train,y_train to train any of the seven data sets e.g for DS2 change X2_train,y2_train and so..\n",
    "\n",
    "clf2 = SVC(random_state=0)\n",
    "grid2 = GridSearchCV(clf2,param_grid=param,scoring='roc_auc',cv=3,n_jobs=-1)\n",
    "grid2.fit(X2_train,y2_train) \n",
    "\n",
    "clf3 = SVC(random_state=0)\n",
    "grid3 = GridSearchCV(clf3,param_grid=param,scoring='roc_auc',cv=3,n_jobs=-1)\n",
    "grid3.fit(X3_train,y3_train) \n",
    "\n",
    "clf4 = SVC(random_state=0)\n",
    "grid4 = GridSearchCV(clf4,param_grid=param,scoring='roc_auc',cv=3,n_jobs=-1)\n",
    "grid4.fit(X4_train,y4_train) \n",
    "\n",
    "clf5 = SVC(random_state=0)\n",
    "grid5 = GridSearchCV(clf5,param_grid=param,scoring='roc_auc',cv=3,n_jobs=-1)\n",
    "grid5.fit(X5_train,y5_train) \n",
    "\n",
    "clf6 = SVC(random_state=0)\n",
    "grid6 = GridSearchCV(clf6,param_grid=param,scoring='roc_auc',cv=3,n_jobs=-1)\n",
    "grid6.fit(X6_train,y6_train) \n",
    "\n",
    "clf7 = SVC(random_state=0)\n",
    "grid7 = GridSearchCV(clf7,param_grid=param,scoring='roc_auc',cv=3,n_jobs=-1)\n",
    "grid7.fit(X7_train,y7_train) "
   ]
  },
  {
   "cell_type": "markdown",
   "metadata": {},
   "source": [
    "### Confusion matrix to see how many mistakes the model made on the test set"
   ]
  },
  {
   "cell_type": "code",
   "execution_count": 437,
   "metadata": {},
   "outputs": [
    {
     "name": "stdout",
     "output_type": "stream",
     "text": [
      "For DS1 \n",
      "[[13  1]\n",
      " [ 2 10]]\n",
      "For DS3 \n",
      "[[ 0  3]\n",
      " [ 0 10]]\n"
     ]
    }
   ],
   "source": [
    "from sklearn.metrics import confusion_matrix\n",
    "svm_predicted = grid.predict(X_test)\n",
    "confusion = confusion_matrix(y_test, svm_predicted)\n",
    "print(\"For DS1 \\n{}\".format(confusion))\n",
    "\n",
    "#svm_predicted2 = grid2.predict(X2_test)\n",
    "#confusion2 = confusion_matrix(y2_test, svm_predicted2)\n",
    "#print(\"For DS2 \\n{}\".format(confusion2))\n",
    "\n",
    "svm_predicted3 = grid3.predict(X3_test)\n",
    "confusion3 = confusion_matrix(y3_test, svm_predicted3)\n",
    "print(\"For DS3 \\n{}\".format(confusion3))\n",
    "\n",
    "#svm_predicted4 = grid4.predict(X4_test)\n",
    "#confusion4 = confusion_matrix(y4_test, svm_predicted4)\n",
    "#print(\"For DS4 \\n{}\".format(confusion4))\n",
    "\n",
    "#svm_predicted5 = grid5.predict(X5_test)\n",
    "#confusion5 = confusion_matrix(y5_test, svm_predicted5)\n",
    "#print(\"For DS5 \\n{}\".format(confusion5))\n",
    "\n",
    "#svm_predicted6 = grid6.predict(X6_test)\n",
    "#confusion6 = confusion_matrix(y6_test, svm_predicted6)\n",
    "#print(\"For DS6 \\n{}\".format(confusion6))\n",
    "\n",
    "#svm_predicted7 = grid7.predict(X7_test)\n",
    "#confusion7 = confusion_matrix(y7_test, svm_predicted7)\n",
    "#print(\"For DS7 \\n{}\".format(confusion7))"
   ]
  },
  {
   "cell_type": "markdown",
   "metadata": {},
   "source": [
    "### Calculating The Auc Score"
   ]
  },
  {
   "cell_type": "code",
   "execution_count": 438,
   "metadata": {},
   "outputs": [
    {
     "name": "stdout",
     "output_type": "stream",
     "text": [
      "{'DS1-AUC-Score': 0.9285714285714286, 'DS2-AUC-Score': 0.9583333333333334, 'DS3-AUC-Score': 0.8666666666666667, 'DS4-AUC-Score': 0.673469387755102, 'DS5-AUC-Score': 0.9272727272727272, 'DS6-AUC-Score': 0.8958333333333334, 'DS7-AUC-Score': 1.0}\n"
     ]
    }
   ],
   "source": [
    "from sklearn.metrics import roc_curve, auc\n",
    "\n",
    "y_score_lr = grid.decision_function(X_test) \n",
    "fpr, tpr, _ = roc_curve(np.array(y_test).astype(int), y_score_lr)\n",
    "r_auc = auc(fpr, tpr)\n",
    "\n",
    "y2_score_lr = grid2.decision_function(X2_test) \n",
    "fpr2, tpr2, _ = roc_curve(np.array(y2_test).astype(int), y2_score_lr)\n",
    "r2_auc = auc(fpr2, tpr2)\n",
    "\n",
    "y3_score_lr = grid3.decision_function(X3_test) \n",
    "fpr3, tpr3, _ = roc_curve(np.array(y3_test).astype(int), y3_score_lr)\n",
    "r3_auc = auc(fpr3, tpr3)\n",
    "\n",
    "y4_score_lr = grid4.decision_function(X4_test) \n",
    "fpr4, tpr4, _ = roc_curve(np.array(y4_test).astype(int), y4_score_lr)\n",
    "r4_auc = auc(fpr4, tpr4)\n",
    "\n",
    "y5_score_lr = grid5.decision_function(X5_test) \n",
    "fpr5, tpr5, _ = roc_curve(np.array(y5_test).astype(int), y5_score_lr)\n",
    "r5_auc = auc(fpr5, tpr5)\n",
    "\n",
    "y6_score_lr = grid6.decision_function(X6_test) \n",
    "fpr6, tpr6, _ = roc_curve(np.array(y6_test).astype(int), y6_score_lr)\n",
    "r6_auc = auc(fpr6, tpr6)\n",
    "\n",
    "y7_score_lr = grid7.decision_function(X7_test) \n",
    "fpr7, tpr7, _ = roc_curve(np.array(y7_test).astype(int), y7_score_lr)\n",
    "r7_auc = auc(fpr7, tpr7)\n",
    "\n",
    "Scores = {'DS1-AUC-Score':r_auc,'DS2-AUC-Score':r2_auc,'DS3-AUC-Score':r3_auc,\n",
    "         'DS4-AUC-Score':r4_auc,'DS5-AUC-Score':r5_auc,'DS6-AUC-Score':r6_auc,\n",
    "         'DS7-AUC-Score':r7_auc}\n",
    "          \n",
    "print(Scores)"
   ]
  },
  {
   "cell_type": "markdown",
   "metadata": {},
   "source": [
    "### Training the model with optimial Parameters "
   ]
  },
  {
   "cell_type": "code",
   "execution_count": 439,
   "metadata": {},
   "outputs": [
    {
     "data": {
      "text/plain": [
       "SVC(C=1, cache_size=200, class_weight=None, coef0=0.0,\n",
       "  decision_function_shape='ovr', degree=3, gamma=0.001, kernel='rbf',\n",
       "  max_iter=-1, probability=True, random_state=0, shrinking=True, tol=0.001,\n",
       "  verbose=False)"
      ]
     },
     "execution_count": 439,
     "metadata": {},
     "output_type": "execute_result"
    }
   ],
   "source": [
    "#un Comment any dataSet you wish to train\n",
    "svc = SVC(C=grid.best_params_['C'],gamma=grid.best_params_['gamma'],random_state=0,probability=True)\n",
    "svc.fit(X_train,y_train)\n",
    "\n",
    "svc2 = SVC(C=grid2.best_params_['C'],gamma=grid2.best_params_['gamma'],random_state=0,probability=True)\n",
    "svc2.fit(X2_train,y2_train)\n",
    "\n",
    "svc3 = SVC(C=grid3.best_params_['C'],gamma=grid3.best_params_['gamma'],random_state=0,probability=True)\n",
    "svc3.fit(X3_train,y3_train)\n",
    "\n",
    "svc4 = SVC(C=grid4.best_params_['C'],gamma=grid4.best_params_['gamma'],random_state=0,probability=True)\n",
    "svc4.fit(X4_train,y4_train)\n",
    "\n",
    "svc5 = SVC(C=grid5.best_params_['C'],gamma=grid5.best_params_['gamma'],random_state=0,probability=True)\n",
    "svc5.fit(X5_train,y5_train)\n",
    "\n",
    "svc6 = SVC(C=grid6.best_params_['C'],gamma=grid6.best_params_['gamma'],random_state=0,probability=True)\n",
    "svc6.fit(X6_train,y6_train)\n",
    "\n",
    "svc7 = SVC(C=grid7.best_params_['C'],gamma=grid7.best_params_['gamma'],random_state=0,probability=True)\n",
    "svc7.fit(X7_train,y7_train)"
   ]
  },
  {
   "cell_type": "markdown",
   "metadata": {},
   "source": [
    "### Plotting roc_Curve"
   ]
  },
  {
   "cell_type": "code",
   "execution_count": 440,
   "metadata": {
    "scrolled": true
   },
   "outputs": [
    {
     "data": {
      "text/plain": [
       "[Text(0, 0.5, 'True-Positive-Rate'), Text(0.5, 0, 'False-Positive-Rate')]"
      ]
     },
     "execution_count": 440,
     "metadata": {},
     "output_type": "execute_result"
    },
    {
     "data": {
      "image/png": "[encoded data removed]",
      "text/plain": [
       "<Figure size 1152x360 with 8 Axes>"
      ]
     },
     "metadata": {
      "needs_background": "light"
     },
     "output_type": "display_data"
    }
   ],
   "source": [
    "from sklearn.metrics import roc_curve\n",
    "import matplotlib.pyplot as plt\n",
    "%matplotlib inline\n",
    "fpr,tpr,_ = roc_curve(np.array(y_test).astype(int),svc.predict_proba(X_test)[:,1],) \n",
    "fpr2,tpr2,_ = roc_curve(np.array(y2_test).astype(int),svc2.predict_proba(X2_test)[:,1],) \n",
    "fpr3,tpr3,_ = roc_curve(np.array(y3_test).astype(int),svc3.predict_proba(X3_test)[:,1],) \n",
    "fpr4,tpr4,_ = roc_curve(np.array(y4_test).astype(int),svc4.predict_proba(X4_test)[:,1],) \n",
    "fpr5,tpr5,_ = roc_curve(np.array(y5_test).astype(int),svc5.predict_proba(X5_test)[:,1],) \n",
    "fpr6,tpr6,_ = roc_curve(np.array(y6_test).astype(int),svc6.predict_proba(X6_test)[:,1],) \n",
    "fpr7,tpr7,_ = roc_curve(np.array(y7_test).astype(int),svc7.predict_proba(X7_test)[:,1],) \n",
    "\n",
    "fig, ((ax1,ax2,ax3,ax4), (ax5,ax6,ax7,ax8)) = plt.subplots(2, 4, sharex=True, sharey=True,figsize=(16,5))\n",
    "ax1.plot(fpr,tpr)\n",
    "ax2.plot(fpr2,tpr2)\n",
    "ax3.plot(fpr3,tpr3)\n",
    "ax4.plot(fpr4,tpr4)\n",
    "ax5.plot(fpr5,tpr5)\n",
    "ax6.plot(fpr6,tpr6)\n",
    "ax7.plot(fpr7,tpr7)\n",
    "ax5.set(xlabel='False-Positive-Rate', ylabel='True-Positive-Rate')\n"
   ]
  },
  {
   "cell_type": "code",
   "execution_count": null,
   "metadata": {},
   "outputs": [],
   "source": []
  },
  {
   "cell_type": "code",
   "execution_count": null,
   "metadata": {},
   "outputs": [],
   "source": []
  },
  {
   "cell_type": "code",
   "execution_count": null,
   "metadata": {},
   "outputs": [],
   "source": []
  }
 ],
 "metadata": {
  "kernelspec": {
   "display_name": "Python 3",
   "language": "python",
   "name": "python3"
  },
  "language_info": {
   "codemirror_mode": {
    "name": "ipython",
    "version": 3
   },
   "file_extension": ".py",
   "mimetype": "text/x-python",
   "name": "python",
   "nbconvert_exporter": "python",
   "pygments_lexer": "ipython3",
   "version": "3.7.1"
  }
 },
 "nbformat": 4,
 "nbformat_minor": 2
}
